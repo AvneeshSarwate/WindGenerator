{
 "cells": [
  {
   "cell_type": "code",
   "execution_count": 3,
   "metadata": {},
   "outputs": [],
   "source": [
    "from LFOFM import *\n",
    "import threading\n",
    "import OSC\n",
    "\n",
    "wp = WavePlayer()\n",
    "tempo = wp.setTempo\n",
    "\n",
    "import PydalChanel as pydalModule\n",
    "\n",
    "read = pydalModule.read\n",
    "pydal = pydalModule.getPydalInstance()\n",
    "port = pydal.port\n",
    "ch1 = pydal.newChannel(1)\n",
    "ch2 = pydal.newChannel(2)\n",
    "\n",
    "triggerFunctions = {}\n",
    "\n",
    "def sendChord(chord):\n",
    "    scClient = pydal.superColliderClient\n",
    "    msg = OSC.OSCMessage()\n",
    "    msg.setAddress(\"/waveNotes\")\n",
    "    msg.append(chord)\n",
    "    scClient.send(msg)\n",
    "    \n",
    "\n",
    "def funcTriggerResponder(addr, tags, stuff, source):\n",
    "    if stuff[0] in triggerFunctions:\n",
    "        triggerFunctions[stuff[0]]()\n",
    "        #could have the \"drumStr\" be something like \"a_param1_param2_..._\" and feed string to function,\n",
    "        #splitting off the first \"_\" for the function id\n",
    "\n",
    "pydal.superColliderServer.addMsgHandler(\"/funcTrigger\", funcTriggerResponder)"
   ]
  },
  {
   "cell_type": "markdown",
   "metadata": {},
   "source": [
    "#### bugs discovered \n",
    "- subtracting waves from each other (subtraction generally?)\n",
    "- (fixed) variables don't work normally - operations modify the objects so arrithmetic doesn't return new stuff"
   ]
  },
  {
   "cell_type": "markdown",
   "metadata": {},
   "source": [
    "#### ideas\n",
    "- rather than quantized midi notes, wave sweeps through notes of an arpeggiated chord. \n",
    "    - implementation: if the rounded midi note is not in the chord, don't send anything\n",
    "- implement a small tree of chords, random walk them\n",
    "- implement a small tree of pitch and q waves, random walk them \n",
    "- time before a random walk step will follow some particular randomly generated sequence determined at the start of the piece\n",
    "- (after other two are working) coin-flip to whether the pitch and q waves will interpolate between walk steps (1/2 of step time is taken to transition to next waves, 1/2 is spent waiting at them). "
   ]
  },
  {
   "cell_type": "markdown",
   "metadata": {},
   "source": [
    "#### implementation\n",
    "- add handler to LFOFM.scd to send chord values to (will be universal across waves for now) \n",
    "- using pydal funcTrigger type (but with pattern constructed with LoopPattern), trigger random walks \n",
    "- allow system to do interpolation\n",
    "    - create a new channel type like funcTrigger that, upon a \"hit\", sets off a task to stream interpolation values to python"
   ]
  },
  {
   "cell_type": "code",
   "execution_count": 4,
   "metadata": {},
   "outputs": [],
   "source": [
    "from LFOFM import *\n",
    "from treeBuilder import TreeBuilder\n",
    "import random\n",
    "\n",
    "class Counter:\n",
    "    def __init__(self):\n",
    "        self.count = 0\n",
    "    def __call__(self):\n",
    "        count = self.count\n",
    "        self.count += 1\n",
    "        return self.count \n",
    "\n",
    "freqs = [Sin(2./(i+1))*4 + 35+(i*5) for i in range(8)]\n",
    "qs = [Sin(0.7/(i+1))*(i+1)*3 + i*7 + 3 for i in range(8)]\n",
    "#simply have 3 different walkers (one for each voice's freq/q), and force coordinate them every once in a while?\n",
    "\n",
    "waveTrees = [0, 0, 0]\n",
    "for i in range(len(waveTrees)):\n",
    "    c = Counter()\n",
    "    getWaves = lambda ind: [freqs[ind], qs[ind]]\n",
    "    waveTrees[i] = TreeBuilder([freqs[0], qs[0]], lambda a: getWaves(c()), fullTreeDepth=2)\n",
    "\n",
    "c = Counter()\n",
    "chords = [random.sample(range(12), 3) for i in range(8)]\n",
    "chordTree = TreeBuilder(chords[0], lambda a: chords[c()], fullTreeDepth=2)\n",
    "    \n",
    "\n",
    "def randWalk():\n",
    "    return random.choice([\"_\"]*3 + [\"\\/:0\", \"\\/:1\", \">\", \"<\", \"^\", \"^\"])\n",
    "\n",
    "\n",
    "def wavesWalk():\n",
    "    for i in range(len(waveTrees)):\n",
    "        waveTree = waveTrees[i]\n",
    "        waveTree.execute(randWalk())\n",
    "        waves = waveTree.currentNode.value\n",
    "        wp.startWaveOSC('f'+str(i+1), '/'+str(i+1)+'/freq', waves[0], metaInfo=\"warp\")\n",
    "        wp.startWaveOSC('q'+str(i+1), '/'+str(i+1)+'/q', waves[1])\n",
    "\n",
    "def chordWalk():\n",
    "    chordTree.execute(randWalk())\n",
    "    sendChord(chordTree.currentNode.value)\n",
    "                \n",
    "def fun2():\n",
    "    sendChord([3,7,11])\n",
    "triggerFunctions[\"a\"] = wavesWalk\n",
    "triggerFunctions[\"b\"] = chordWalk\n",
    "\n",
    "timeSteps = [2.0, 2.0, 4.0, 4.0, 8.0] \n",
    "random.shuffle(timeSteps)\n",
    "wavesRhythm = [sum(timeSteps[:i+1]) for i in range(len(timeSteps))]\n",
    "random.shuffle(timeSteps)\n",
    "chordsRhythm = [sum(timeSteps[:i+1]) for i in range(len(timeSteps))]\n",
    "\n",
    "\n",
    "wavesPat = pydalModule.FlatGenericPattern([[t, \"a\"] for t in wavesRhythm], \"funcTrigger\", lambda a:a)\n",
    "wavesPat.frac = sum(timeSteps)\n",
    "chordsPat = pydalModule.FlatGenericPattern([[t, \"b\"] for t in chordsRhythm], \"funcTrigger\", lambda a:a)\n",
    "chordsPat.frac = sum(timeSteps)\n",
    "ch1.play(wavesPat, metaInfo=[port])\n",
    "ch2.play(chordsPat, metaInfo=[port])"
   ]
  },
  {
   "cell_type": "code",
   "execution_count": 5,
   "metadata": {
    "collapsed": true
   },
   "outputs": [],
   "source": [
    "ch1.stop()\n",
    "ch2.stop()"
   ]
  },
  {
   "cell_type": "code",
   "execution_count": 2,
   "metadata": {},
   "outputs": [
    {
     "name": "stdout",
     "output_type": "stream",
     "text": [
      "[0, 8.0, 10.0, 12.0, 16.0] [8.0, 2.0, 2.0, 4.0, 4.0]\n"
     ]
    }
   ],
   "source": [
    "import random\n",
    "timeSteps = [2.0, 2.0, 4.0, 4.0, 8.0] \n",
    "random.shuffle(timeSteps)\n",
    "wavesRhythm = [sum(timeSteps[:i]) for i in range(len(timeSteps))]\n",
    "print wavesRhythm, timeSteps"
   ]
  },
  {
   "cell_type": "code",
   "execution_count": null,
   "metadata": {},
   "outputs": [],
   "source": [
    "wavesWalk()\n",
    "chordWalk()"
   ]
  },
  {
   "cell_type": "code",
   "execution_count": null,
   "metadata": {},
   "outputs": [],
   "source": [
    "def randWalk():\n",
    "    return random.choice([\"_\"]*3 + [\"\\/:0\", \"\\/:1\", \">\", \"<\", \"^\", \"^\"])\n",
    "\n",
    "randWalk()\n",
    "ceil(0.6)"
   ]
  },
  {
   "cell_type": "code",
   "execution_count": null,
   "metadata": {},
   "outputs": [],
   "source": [
    "def fun1():\n",
    "    sendChord([0,3,7])\n",
    "def fun2():\n",
    "    sendChord([3,7,11])\n",
    "triggerFunctions[\"a\"] = fun1\n",
    "triggerFunctions[\"b\"] = fun2\n",
    "pat = pydalModule.FlatGenericPattern([[0.0, \"a\"], [5.0, \"b\"]], \"funcTrigger\", lambda a:a)\n",
    "pat.frac = 10.0\n",
    "ch1.play(pat, metaInfo=[port])\n",
    "ch1.stop()"
   ]
  },
  {
   "cell_type": "code",
   "execution_count": null,
   "metadata": {
    "collapsed": true
   },
   "outputs": [],
   "source": [
    "bf = (Sin(0.01)+1)*5\n",
    "\n",
    "f1 = (Sin(freq=0.5, phase=Tri(1.5 * bf))*120 + 640)/2\n",
    "q1 = 1 + (Sin(0.1)+1)*30\n",
    "wp.startWaveOSC('f1', '/1/freq', f1, metaInfo=\"warp\")\n",
    "wp.startWaveOSC('q1', '/1/q', q1)\n",
    "\n",
    "f2 = (Sin(freq=0.03, phase=Sin(1*bf))*120 + 640)*2\n",
    "q2 = Sin(0.1)*1 + 2\n",
    "wp.startWaveOSC('f2', '/2/freq', f2, metaInfo=\"warp\")\n",
    "wp.startWaveOSC('q2', '/2/q', q2)\n",
    "\n",
    "f3 = (Sin(phase=Sin(2  * bf))*120 + 640)/3\n",
    "q3 = Sin(0.1)*3 + 60*Saw(-0.07, phase=Sin(0.06))\n",
    "wp.startWaveOSC('f3', '/3/freq', f3, metaInfo=\"warp\")\n",
    "wp.startWaveOSC('q3', '/3/q', q3)"
   ]
  },
  {
   "cell_type": "code",
   "execution_count": null,
   "metadata": {},
   "outputs": [],
   "source": [
    "bf = (Sin(0.01)+1)*5\n",
    "\n",
    "q = 10 + (Sin(freq=Sin(0.08)+2)+1.)/2. * 30\n",
    "\n",
    "f1 = (Sin(freq=0.5, phase=Tri(1.5 * bf))*120 + 640)/2 \n",
    "q1 = 4 + (Sin(0.2)+1.)/2. * 10\n",
    "wp.startWaveOSC('f1', '/1/freq', mtof(67))\n",
    "wp.startWaveOSC('q1', '/1/q', q1)\n",
    "\n",
    "f2 = (Sin(freq=0.03, phase=Sin(1*bf))*120 + 640)*2\n",
    "q2 = 4 + (Sin(0.2, 0.7)+1.)/2. * 10\n",
    "wp.startWaveOSC('f2', '/2/freq', mtof(60))\n",
    "wp.startWaveOSC('q2', '/2/q', q2)\n",
    "\n",
    "f3 = (Sin(phase=Sin(2  * bf))*120 + 640)/3\n",
    "q3 = 4 + (Sin(0.2, 1.4)+1.)/2. * 10\n",
    "wp.startWaveOSC('f3', '/3/freq', mtof(63))\n",
    "wp.startWaveOSC('q3', '/3/q', q3)"
   ]
  },
  {
   "cell_type": "code",
   "execution_count": 6,
   "metadata": {},
   "outputs": [],
   "source": [
    "#different wave settings for variation tree will simply be different combinations of the components found here\n",
    "\n",
    "bf = (Sin(0.01)+1)*1\n",
    "\n",
    "q = 10 + (Sin(freq=Sin(0.08)+2)+1.)/2. * 30\n",
    "\n",
    "f1 = (Sin(freq=0.5, phase=Tri(1.5 * bf))*12 + 64) \n",
    "m1 =Sin(0.2)*(Sqr() + 1.)*12.\n",
    "q1 = 0.1 + (Sin(0.1)+1.)/2. * 2\n",
    "\n",
    "f2 = (Sin(freq=0.03, phase=Sin(1*bf))*8 + 40)\n",
    "m2 = Saw(0.1)*-12\n",
    "q2 = 1 + (Sin(0.1, 0.7)+1.)/2. * 10\n",
    "\n",
    "f3 = (Sin(phase=Sin(2  * bf))*6 + 50)\n",
    "q3 = 1 + (Sin(0.1, 1.4)+1.)/2. * 10\n",
    "\n",
    "\n",
    "\n",
    "wp.startWaveOSC('f1', '/1/freq', f1+m1, metaInfo=\"warp\")\n",
    "wp.startWaveOSC('q1', '/1/q', q)\n",
    "\n",
    "\n",
    "wp.startWaveOSC('f2', '/2/freq', f2+m1, metaInfo=\"warp\")\n",
    "wp.startWaveOSC('q2', '/2/q', q2)\n",
    "\n",
    "wp.startWaveOSC('f3', '/3/freq', Sin(0.1)*5. + 60, metaInfo=\"warp\")\n",
    "wp.startWaveOSC('q3', '/3/q', q)"
   ]
  },
  {
   "cell_type": "code",
   "execution_count": null,
   "metadata": {},
   "outputs": [],
   "source": [
    "print Sin(0.1)*3 + 60*Saw(-0.07, phase=Sin(0.06))"
   ]
  },
  {
   "cell_type": "code",
   "execution_count": null,
   "metadata": {
    "collapsed": true
   },
   "outputs": [],
   "source": [
    "wp.stopWave('f1')\n",
    "wp.stopWave('q1')\n",
    "wp.stopWave('f2')\n",
    "wp.stopWave('q2')\n",
    "wp.stopWave('f3')\n",
    "wp.stopWave('q3')"
   ]
  },
  {
   "cell_type": "code",
   "execution_count": null,
   "metadata": {
    "collapsed": true
   },
   "outputs": [],
   "source": [
    "wp.plotWave(f2+m1, 100, 200)"
   ]
  },
  {
   "cell_type": "code",
   "execution_count": null,
   "metadata": {
    "collapsed": true
   },
   "outputs": [],
   "source": [
    "p1 = Sin(phase=Tri(-1)) * 500. + Cos(Tri(0.1)*10) * 100. \n",
    "p1 = Cos(phase=Tri()) * 500. + Cos(Tri(0.1)*10) * 100.\n",
    "wp.startWaveOSC('p1', '/p1', p1)\n",
    "wp.startWaveOSC('p2', '/p2', p1)"
   ]
  },
  {
   "cell_type": "code",
   "execution_count": null,
   "metadata": {
    "collapsed": true
   },
   "outputs": [],
   "source": [
    "wp.stopWave('p1')\n",
    "wp.stopWave('p2')"
   ]
  },
  {
   "cell_type": "code",
   "execution_count": null,
   "metadata": {},
   "outputs": [],
   "source": [
    "wp.plotWave(f2+m1, 100, 200)"
   ]
  }
 ],
 "metadata": {
  "kernelspec": {
   "display_name": "Python 2",
   "language": "python",
   "name": "python2"
  },
  "language_info": {
   "codemirror_mode": {
    "name": "ipython",
    "version": 2
   },
   "file_extension": ".py",
   "mimetype": "text/x-python",
   "name": "python",
   "nbconvert_exporter": "python",
   "pygments_lexer": "ipython2",
   "version": "2.7.13"
  }
 },
 "nbformat": 4,
 "nbformat_minor": 2
}

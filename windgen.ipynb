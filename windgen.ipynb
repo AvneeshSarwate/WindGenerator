{
 "cells": [
  {
   "cell_type": "code",
   "execution_count": 1,
   "metadata": {
    "collapsed": true
   },
   "outputs": [],
   "source": [
    "from LFOFM import *\n",
    "\n",
    "wp = WavePlayer()\n",
    "tempo = wp.setTempo\n",
    "\n",
    "def mtof(m):\n",
    "    return 2**((m-69.)/12.) * 440"
   ]
  },
  {
   "cell_type": "markdown",
   "metadata": {},
   "source": [
    "#### bugs discovered \n",
    "- subtracting waves from each other (subtraction generally?)\n",
    "- (fixed) variables don't work normally - operations modify the objects so arrithmetic doesn't return new stuff"
   ]
  },
  {
   "cell_type": "markdown",
   "metadata": {},
   "source": [
    "#### ideas\n",
    "- rather than quantized midi notes, wave sweeps through notes of an arpeggiated chord. \n",
    "    - implementation: if the rounded midi note is not in the chord, don't send anything\n",
    "- implement a small tree of chords, random walk them\n",
    "- implement a small tree of pitch and q waves, random walk them \n",
    "- time before a random walk step will follow some particular randomly generated sequence determined at the start of the piece\n",
    "- (after other two are working) coin-flip to whether the pitch and q waves will interpolate between walk steps (1/2 of step time is taken to transition to next waves, 1/2 is spent waiting at them). "
   ]
  },
  {
   "cell_type": "markdown",
   "metadata": {},
   "source": [
    "#### implementation\n",
    "- add handler to LFOFM.scd to send chord values to (will be universal across waves for now) \n",
    "- using pydal funcTrigger type (but with pattern constructed with LoopPattern), trigger random walks \n",
    "- allow system to do interpolation\n",
    "    - create a new channel type like funcTrigger that, upon a \"hit\", sets off a task to stream interpolation values to python"
   ]
  },
  {
   "cell_type": "code",
   "execution_count": null,
   "metadata": {
    "collapsed": true
   },
   "outputs": [],
   "source": [
    "bf = (Sin(0.01)+1)*5\n",
    "\n",
    "f1 = (Sin(freq=0.5, phase=Tri(1.5 * bf))*120 + 640)/2\n",
    "q1 = 1 + (Sin(0.1)+1)*30\n",
    "wp.startWaveOSC('f1', '/1/freq', f1)\n",
    "wp.startWaveOSC('q1', '/1/q', q1)\n",
    "\n",
    "f2 = (Sin(freq=0.03, phase=Sin(1*bf))*120 + 640)*2\n",
    "q2 = Sin(0.1)*1 + 2\n",
    "wp.startWaveOSC('f2', '/2/freq', f2)\n",
    "wp.startWaveOSC('q2', '/2/q', q2)\n",
    "\n",
    "f3 = (Sin(phase=Sin(2  * bf))*120 + 640)/3\n",
    "q3 = Sin(0.1)*3 + 60*Saw(-0.07, phase=Sin(0.06))\n",
    "wp.startWaveOSC('f3', '/3/freq', f3)\n",
    "wp.startWaveOSC('q3', '/3/q', q3)"
   ]
  },
  {
   "cell_type": "code",
   "execution_count": null,
   "metadata": {
    "collapsed": true
   },
   "outputs": [],
   "source": [
    "bf = (Sin(0.01)+1)*5\n",
    "\n",
    "q = 10 + (Sin(freq=Sin(0.08)+2)+1.)/2. * 30\n",
    "\n",
    "f1 = (Sin(freq=0.5, phase=Tri(1.5 * bf))*120 + 640)/2 \n",
    "q1 = 4 + (Sin(0.2)+1.)/2. * 10\n",
    "wp.startWaveOSC('f1', '/1/freq', mtof(67))\n",
    "wp.startWaveOSC('q1', '/1/q', q1)\n",
    "\n",
    "f2 = (Sin(freq=0.03, phase=Sin(1*bf))*120 + 640)*2\n",
    "q2 = 4 + (Sin(0.2, 0.7)+1.)/2. * 10\n",
    "wp.startWaveOSC('f2', '/2/freq', mtof(60))\n",
    "wp.startWaveOSC('q2', '/2/q', q2)\n",
    "\n",
    "f3 = (Sin(phase=Sin(2  * bf))*120 + 640)/3\n",
    "q3 = 4 + (Sin(0.2, 1.4)+1.)/2. * 10\n",
    "wp.startWaveOSC('f3', '/3/freq', mtof(63))\n",
    "wp.startWaveOSC('q3', '/3/q', q3)"
   ]
  },
  {
   "cell_type": "code",
   "execution_count": 21,
   "metadata": {},
   "outputs": [],
   "source": [
    "bf = (Sin(0.01)+1)*1\n",
    "\n",
    "q = 10 + (Sin(freq=Sin(0.08)+2)+1.)/2. * 30\n",
    "\n",
    "f1 = (Sin(freq=0.5, phase=Tri(1.5 * bf))*12 + 64) \n",
    "m1 =Sin(0.2)*(Sqr() + 1.)*12.\n",
    "q1 = 0.1 + (Sin(0.1)+1.)/2. * 2\n",
    "\n",
    "f2 = (Sin(freq=0.03, phase=Sin(1*bf))*8 + 40)\n",
    "m2 = Saw(0.1)*-12\n",
    "q2 = 1 + (Sin(0.1, 0.7)+1.)/2. * 10\n",
    "\n",
    "f3 = (Sin(phase=Sin(2  * bf))*6 + 50)\n",
    "q3 = 1 + (Sin(0.1, 1.4)+1.)/2. * 10\n",
    "\n",
    "\n",
    "\n",
    "wp.startWaveOSC('f1', '/1/freq', f1+m1, metaInfo=\"warp\")\n",
    "wp.startWaveOSC('q1', '/1/q', q)\n",
    "\n",
    "\n",
    "wp.startWaveOSC('f2', '/2/freq', 0, metaInfo=\"warp\")\n",
    "wp.startWaveOSC('q2', '/2/q', 10)\n",
    "\n",
    "wp.startWaveOSC('f3', '/3/freq', Sin(0.1)*5. + 60, metaInfo=\"warp\")\n",
    "wp.startWaveOSC('q3', '/3/q', 70)"
   ]
  },
  {
   "cell_type": "code",
   "execution_count": null,
   "metadata": {
    "collapsed": true
   },
   "outputs": [],
   "source": [
    "wp.stopWave('f1')\n",
    "wp.stopWave('q1')\n",
    "wp.stopWave('f2')\n",
    "wp.stopWave('q2')\n",
    "wp.stopWave('f3')\n",
    "wp.stopWave('q3')"
   ]
  },
  {
   "cell_type": "code",
   "execution_count": null,
   "metadata": {
    "collapsed": true
   },
   "outputs": [],
   "source": [
    "wp.plotWave(q, 100, 110)"
   ]
  },
  {
   "cell_type": "code",
   "execution_count": null,
   "metadata": {
    "collapsed": true
   },
   "outputs": [],
   "source": [
    "p1 = Sin(phase=Tri(-1)) * 500. + Cos(Tri(0.1)*10) * 100. \n",
    "p1 = Cos(phase=Tri()) * 500. + Cos(Tri(0.1)*10) * 100.\n",
    "wp.startWaveOSC('p1', '/p1', p1)\n",
    "wp.startWaveOSC('p2', '/p2', p1)"
   ]
  },
  {
   "cell_type": "code",
   "execution_count": null,
   "metadata": {
    "collapsed": true
   },
   "outputs": [],
   "source": [
    "wp.stopWave('p1')\n",
    "wp.stopWave('p2')"
   ]
  },
  {
   "cell_type": "code",
   "execution_count": null,
   "metadata": {},
   "outputs": [],
   "source": [
    "wp.plotWave(f2+m1, 100, 200)"
   ]
  }
 ],
 "metadata": {
  "kernelspec": {
   "display_name": "Python 2",
   "language": "python",
   "name": "python2"
  },
  "language_info": {
   "codemirror_mode": {
    "name": "ipython",
    "version": 2
   },
   "file_extension": ".py",
   "mimetype": "text/x-python",
   "name": "python",
   "nbconvert_exporter": "python",
   "pygments_lexer": "ipython2",
   "version": "2.7.13"
  }
 },
 "nbformat": 4,
 "nbformat_minor": 2
}

{
 "cells": [
  {
   "cell_type": "code",
   "execution_count": 2,
   "metadata": {
    "collapsed": true
   },
   "outputs": [],
   "source": [
    "from LFOFM import *\n",
    "\n",
    "wp = WavePlayer()\n",
    "tempo = wp.setTempo\n",
    "\n",
    "def mtof(m):\n",
    "    return 2**((m-69.)/12.) * 440"
   ]
  },
  {
   "cell_type": "code",
   "execution_count": 46,
   "metadata": {},
   "outputs": [
    {
     "data": {
      "text/plain": [
       "220.0"
      ]
     },
     "execution_count": 46,
     "metadata": {},
     "output_type": "execute_result"
    }
   ],
   "source": []
  },
  {
   "cell_type": "code",
   "execution_count": 25,
   "metadata": {},
   "outputs": [],
   "source": [
    "bf = (Sin(0.01)+1)*5\n",
    "\n",
    "f1 = (Sin(freq=0.5, phase=Tri(1.5 * bf))*120 + 640)/2\n",
    "q1 = 1 + (Sin(0.1)+1)*30\n",
    "wp.startWaveOSC('f1', '/1/freq', f1)\n",
    "wp.startWaveOSC('q1', '/1/q', q1)\n",
    "\n",
    "f2 = (Sin(freq=0.03, phase=Sin(1*bf))*120 + 640)*2\n",
    "q2 = Sin(0.1)*1 + 2\n",
    "wp.startWaveOSC('f2', '/2/freq', f2)\n",
    "wp.startWaveOSC('q2', '/2/q', q2)\n",
    "\n",
    "f3 = (Sin(phase=Sin(2  * bf))*120 + 640)/3\n",
    "q3 = Sin(0.1)*3 + 60*Saw(-0.07, phase=Sin(0.06))\n",
    "wp.startWaveOSC('f3', '/3/freq', f3)\n",
    "wp.startWaveOSC('q3', '/3/q', q3)"
   ]
  },
  {
   "cell_type": "code",
   "execution_count": 98,
   "metadata": {
    "collapsed": true
   },
   "outputs": [],
   "source": [
    "bf = (Sin(0.01)+1)*5\n",
    "\n",
    "q = 10 + (Sin(freq=Sin(0.08)+2)+1.)/2. * 30\n",
    "\n",
    "f1 = (Sin(freq=0.5, phase=Tri(1.5 * bf))*120 + 640)/2\n",
    "q1 = 4 + (Sin(0.2)+1.)/2. * 10\n",
    "wp.startWaveOSC('f1', '/1/freq', mtof(67))\n",
    "wp.startWaveOSC('q1', '/1/q', q1)\n",
    "\n",
    "f2 = (Sin(freq=0.03, phase=Sin(1*bf))*120 + 640)*2\n",
    "q2 = 4 + (Sin(0.2, 0.7)+1.)/2. * 10\n",
    "wp.startWaveOSC('f2', '/2/freq', mtof(60))\n",
    "wp.startWaveOSC('q2', '/2/q', q2)\n",
    "\n",
    "f3 = (Sin(phase=Sin(2  * bf))*120 + 640)/3\n",
    "q3 = 4 + (Sin(0.2, 1.4)+1.)/2. * 10\n",
    "wp.startWaveOSC('f3', '/3/freq', mtof(63))\n",
    "wp.startWaveOSC('q3', '/3/q', q3)"
   ]
  },
  {
   "cell_type": "code",
   "execution_count": null,
   "metadata": {
    "collapsed": true
   },
   "outputs": [],
   "source": []
  },
  {
   "cell_type": "code",
   "execution_count": 11,
   "metadata": {
    "collapsed": true
   },
   "outputs": [],
   "source": [
    "wp.stopWave('f1')\n",
    "wp.stopWave('q1')\n",
    "wp.stopWave('f2')\n",
    "wp.stopWave('q2')\n",
    "wp.stopWave('f3')\n",
    "wp.stopWave('q3')"
   ]
  },
  {
   "cell_type": "code",
   "execution_count": 93,
   "metadata": {
    "collapsed": true
   },
   "outputs": [],
   "source": [
    "wp.plotWave(q, 100, 110)"
   ]
  }
 ],
 "metadata": {
  "kernelspec": {
   "display_name": "Python 2",
   "language": "python",
   "name": "python2"
  },
  "language_info": {
   "codemirror_mode": {
    "name": "ipython",
    "version": 2
   },
   "file_extension": ".py",
   "mimetype": "text/x-python",
   "name": "python",
   "nbconvert_exporter": "python",
   "pygments_lexer": "ipython2",
   "version": "2.7.13"
  }
 },
 "nbformat": 4,
 "nbformat_minor": 2
}

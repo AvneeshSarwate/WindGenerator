{
 "cells": [
  {
   "cell_type": "code",
   "execution_count": 1,
   "metadata": {
    "collapsed": true
   },
   "outputs": [],
   "source": [
    "from LFOFM import *\n",
    "import threading\n",
    "import OSC\n",
    "\n",
    "wp = WavePlayer()\n",
    "tempo = wp.setTempo\n",
    "\n",
    "import PydalChanel as pydalModule\n",
    "\n",
    "read = pydalModule.read\n",
    "pydal = pydalModule.getPydalInstance()\n",
    "port = pydal.port\n",
    "ch1 = pydal.newChannel(1)\n",
    "ch2 = pydal.newChannel(2)\n",
    "\n",
    "triggerFunctions = {}\n",
    "\n",
    "def sendChord(chord):\n",
    "    scClient = pydal.superColliderClient\n",
    "    msg = OSC.OSCMessage()\n",
    "    msg.setAddress(\"/waveNotes\")\n",
    "    msg.append(chord)\n",
    "    scClient.send(msg)\n",
    "    \n",
    "\n",
    "def funcTriggerResponder(addr, tags, stuff, source):\n",
    "    if stuff[0] in triggerFunctions:\n",
    "        triggerFunctions[stuff[0]]()\n",
    "        #could have the \"drumStr\" be something like \"a_param1_param2_..._\" and feed string to function,\n",
    "        #splitting off the first \"_\" for the function id\n",
    "\n",
    "pydal.superColliderServer.addMsgHandler(\"/funcTrigger\", funcTriggerResponder)"
   ]
  },
  {
   "cell_type": "code",
   "execution_count": 4,
   "metadata": {
    "collapsed": true
   },
   "outputs": [],
   "source": [
    "bf = (Sin(0.01)+1)*1\n",
    "\n",
    "q = 10 + (Sin(freq=Sin(0.08)+2)+1.)/2. * 30\n",
    "\n",
    "f1 = (Sin(freq=0.5, phase=Tri(1.5 * bf))*12 + 64) \n",
    "m1 =Sin(0.2)*(Sqr() + 1.)*12.\n",
    "q1 = 0.5 + (Sin(0.1)+1.)/2. * 2\n",
    "\n",
    "f2 = (Sin(freq=0.03, phase=Sin(1*bf))*8 + 40)\n",
    "m2 = Saw(0.1)*-12\n",
    "q2 = 1 + (Sin(0.1, 0.7)+1.)/2. * 10\n",
    "\n",
    "f3 = (Sin(phase=Sin(2  * bf))*6 + 50)\n",
    "q3 = 1 + (Sin(0.1, 1.4)+1.)/2. * 10\n",
    "\n",
    "waves = [[f3+m1, q], [f1+m1, q], [f2+m2, q2], [f3, q3], [f2+m1, q1], [f1+m2, q], [f3+m1, q3]]"
   ]
  },
  {
   "cell_type": "code",
   "execution_count": 7,
   "metadata": {
    "collapsed": true
   },
   "outputs": [],
   "source": [
    "from LFOFM import *\n",
    "from treeBuilder import TreeBuilder\n",
    "import random\n",
    "\n",
    "class Counter:\n",
    "    def __init__(self):\n",
    "        self.count = 0\n",
    "    def __call__(self):\n",
    "        count = self.count\n",
    "        self.count += 1\n",
    "        return self.count \n",
    "\n",
    "\n",
    "waveTrees = [0, 0, 0]\n",
    "for i in range(len(waveTrees)):\n",
    "    c = Counter()\n",
    "    waveTrees[i] = TreeBuilder(waves[0], lambda a: waves[c()], fullTreeDepth=2)\n",
    "\n",
    "c = Counter()\n",
    "chords = [random.sample(range(12), 3) for i in range(8)]\n",
    "chordTree = TreeBuilder(chords[0], lambda a: chords[c()], fullTreeDepth=2)\n",
    "    \n",
    "\n",
    "def randWalk():\n",
    "    return random.choice([\"_\"]*3 + [\"\\/:0\", \"\\/:1\", \">\", \"<\", \"^\", \"^\"])\n",
    "\n",
    "\n",
    "def wavesWalk():\n",
    "    for i in range(len(waveTrees)):\n",
    "        waveTree = waveTrees[i]\n",
    "        waveTree.execute(randWalk())\n",
    "        waves = waveTree.currentNode.value\n",
    "        wp.startWaveOSC('f'+str(i+1), '/'+str(i+1)+'/freq', waves[0], metaInfo=\"warp\")\n",
    "        wp.startWaveOSC('q'+str(i+1), '/'+str(i+1)+'/q', waves[1])\n",
    "\n",
    "def chordWalk():\n",
    "    chordTree.execute(randWalk())\n",
    "    sendChord(chordTree.currentNode.value)\n",
    "                \n",
    "def fun2():\n",
    "    sendChord([3,7,11])\n",
    "triggerFunctions[\"a\"] = wavesWalk\n",
    "triggerFunctions[\"b\"] = chordWalk\n",
    "\n",
    "timeSteps = [2.0, 2.0, 4.0, 4.0, 8.0] \n",
    "random.shuffle(timeSteps)\n",
    "chordsRhythm = [sum(timeSteps[:i+1]) for i in range(len(timeSteps))]\n",
    "random.shuffle(timeSteps)\n",
    "wavesRhythm = [sum(timeSteps[:i+1]) for i in range(len(timeSteps))]\n",
    "\n",
    "\n",
    "wavesPat = pydalModule.FlatGenericPattern([[0.0, \"a\"]], \"funcTrigger\", lambda a:a)\n",
    "wavesPat.frac = sum(timeSteps)\n",
    "chordsPat = pydalModule.FlatGenericPattern([[t, \"b\"] for t in chordsRhythm], \"funcTrigger\", lambda a:a)\n",
    "chordsPat.frac = sum(timeSteps)\n",
    "ch1.play(wavesPat, metaInfo=[port])\n",
    "ch2.play(chordsPat, metaInfo=[port])"
   ]
  },
  {
   "cell_type": "code",
   "execution_count": null,
   "metadata": {
    "collapsed": true
   },
   "outputs": [],
   "source": [
    "ch1.stop()\n",
    "ch2.stop()\n",
    "# ch1.play(wavesPat, metaInfo=[port])\n",
    "# ch2.play(chordsPat, metaInfo=[port])"
   ]
  }
 ],
 "metadata": {
  "kernelspec": {
   "display_name": "Python 2",
   "language": "python",
   "name": "python2"
  },
  "language_info": {
   "codemirror_mode": {
    "name": "ipython",
    "version": 2
   },
   "file_extension": ".py",
   "mimetype": "text/x-python",
   "name": "python",
   "nbconvert_exporter": "python",
   "pygments_lexer": "ipython2",
   "version": "2.7.13"
  }
 },
 "nbformat": 4,
 "nbformat_minor": 2
}
